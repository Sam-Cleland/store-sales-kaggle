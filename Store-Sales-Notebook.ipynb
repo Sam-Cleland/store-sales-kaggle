{
 "cells": [
  {
   "cell_type": "markdown",
   "id": "1e620204",
   "metadata": {},
   "source": [
    "# Store Sales"
   ]
  },
  {
   "cell_type": "markdown",
   "id": "d5621a30",
   "metadata": {},
   "source": [
    "## Packages/Set up"
   ]
  },
  {
   "cell_type": "code",
   "execution_count": null,
   "id": "1067fdf5",
   "metadata": {
    "ExecuteTime": {
     "end_time": "2022-01-08T08:21:54.401001Z",
     "start_time": "2022-01-08T08:21:53.985365Z"
    }
   },
   "outputs": [],
   "source": [
    "import numpy as np\n",
    "import pandas as pd\n",
    "import plotly as pltly\n",
    "import plotly.express as px\n",
    "import matplotlib.pyplot as plt\n",
    "import lightgbm as lgb\n",
    "import statsmodels.api as sm\n",
    "\n",
    "from statsmodels.tsa.seasonal import seasonal_decompose\n",
    "from statsmodels.tsa.stattools import adfuller\n",
    "from statsmodels.tsa.arima_model import ARIMA\n",
    "from sklearn.metrics import mean_squared_error, r2_score\n",
    "from sklearn.model_selection import train_test_split\n",
    "from sklearn.compose import ColumnTransformer\n",
    "\n",
    "import glob\n",
    "import os\n",
    "import itertools"
   ]
  },
  {
   "cell_type": "markdown",
   "id": "1e6b1ecd",
   "metadata": {},
   "source": [
    "## Load Data"
   ]
  },
  {
   "cell_type": "code",
   "execution_count": null,
   "id": "6b6670da",
   "metadata": {
    "ExecuteTime": {
     "end_time": "2022-01-08T07:59:29.774982Z",
     "start_time": "2022-01-08T07:59:29.769090Z"
    },
    "scrolled": true
   },
   "outputs": [],
   "source": [
    "# List files in data directory\n",
    "mypath = '\n",
    "file_list = []\n",
    "for file in glob.glob(f'{mypath}/*.csv'):\n",
    "    file_list.append(file)\n",
    "file_list"
   ]
  },
  {
   "cell_type": "code",
   "execution_count": null,
   "id": "c641fd22",
   "metadata": {
    "ExecuteTime": {
     "end_time": "2022-01-08T07:59:31.201287Z",
     "start_time": "2022-01-08T07:59:29.776255Z"
    }
   },
   "outputs": [],
   "source": [
    "holiday_events = pd.read_csv(\n",
    "    '/home/samc/BDO-Projects/store-sales-time-series-forecasting/holidays_events.csv',\n",
    "    dtype={\n",
    "        'type': 'category',\n",
    "        'locale': 'category',\n",
    "        'locale_name': 'category',\n",
    "        'description': 'object',\n",
    "        'transfered': 'bool'\n",
    "    },\n",
    "    parse_dates=['date'],\n",
    "    infer_datetime_format=True\n",
    ")\n",
    "\n",
    "# transactions = pd.read_csv(\n",
    "#     '/home/samc/BDO-Projects/store-sales-time-series-forecasting/transactions.csv',\n",
    "#     dtype={\n",
    "#         'store_nbr': 'category',\n",
    "#         'transactions': 'int64',\n",
    "#     },\n",
    "#     parse_dates=['date'],\n",
    "#     infer_datetime_format=True\n",
    "# )\n",
    "\n",
    "train = pd.read_csv(\n",
    "    '/home/samc/BDO-Projects/store-sales-time-series-forecasting/train.csv',\n",
    "    dtype={\n",
    "        'id': 'int64',\n",
    "        'store_nbr': 'category',\n",
    "        'family': 'category',\n",
    "        'sales': 'float64',\n",
    "        'onpromotion': 'int64'\n",
    "    },\n",
    "    parse_dates=['date'],\n",
    "    infer_datetime_format=True\n",
    ")\n",
    "\n",
    "oil = pd.read_csv(\n",
    "    '/home/samc/BDO-Projects/store-sales-time-series-forecasting/oil.csv',\n",
    "    dtype={\n",
    "        'dcoilwtico': 'float64'\n",
    "    },\n",
    "    parse_dates=['date'],\n",
    "    infer_datetime_format=True   \n",
    ")\n",
    "\n",
    "test = pd.read_csv(\n",
    "    '/home/samc/BDO-Projects/store-sales-time-series-forecasting/test.csv',\n",
    "    dtype={\n",
    "        'id': 'int64',\n",
    "        'store_nbr': 'category',\n",
    "        'family': 'category',\n",
    "        'sales': 'float64',\n",
    "        'onpromotion': 'int64'\n",
    "    },\n",
    "    parse_dates=['date'],\n",
    "    infer_datetime_format=True\n",
    ")\n",
    "\n",
    "stores = pd.read_csv(\n",
    "    '/home/samc/BDO-Projects/store-sales-time-series-forecasting/stores.csv',\n",
    "    dtype={\n",
    "        'store_nbr': 'category',\n",
    "        'city': 'category',\n",
    "        'state': 'category',\n",
    "        'type': 'category',\n",
    "        'cluster': 'category'\n",
    "    },\n",
    "    header=0,\n",
    "    names = [\n",
    "        'store_nbr',\n",
    "        'city',\n",
    "        'state',\n",
    "        'store_type',\n",
    "        'cluster'\n",
    "    ]\n",
    ")"
   ]
  },
  {
   "cell_type": "code",
   "execution_count": null,
   "id": "9868bfc5",
   "metadata": {
    "ExecuteTime": {
     "end_time": "2022-01-08T07:59:31.971961Z",
     "start_time": "2022-01-08T07:59:31.203203Z"
    }
   },
   "outputs": [],
   "source": [
    "# Create date variables\n",
    "train['year'] = pd.DatetimeIndex(train['date']).year.astype('category')\n",
    "train['month'] = pd.DatetimeIndex(train['date']).month.astype('category')\n",
    "train['day'] = pd.DatetimeIndex(train['date']).day.astype('category')\n",
    "train['dayofweek'] = pd.DatetimeIndex(train['date']).dayofweek.astype('category')\n",
    "\n",
    "test['year'] = pd.DatetimeIndex(test['date']).year.astype('category')\n",
    "test['month'] = pd.DatetimeIndex(test['date']).month.astype('category')\n",
    "test['day'] = pd.DatetimeIndex(test['date']).day.astype('category')\n",
    "test['dayofweek'] = pd.DatetimeIndex(test['date']).dayofweek.astype('category')"
   ]
  },
  {
   "cell_type": "markdown",
   "id": "f8e8be72",
   "metadata": {},
   "source": [
    "## Data Summary"
   ]
  },
  {
   "cell_type": "code",
   "execution_count": null,
   "id": "8fbbcdbd",
   "metadata": {
    "ExecuteTime": {
     "end_time": "2022-01-08T07:59:31.990519Z",
     "start_time": "2022-01-08T07:59:31.973055Z"
    }
   },
   "outputs": [],
   "source": [
    "holiday_events.info()"
   ]
  },
  {
   "cell_type": "code",
   "execution_count": null,
   "id": "d5a8e50d",
   "metadata": {
    "ExecuteTime": {
     "end_time": "2022-01-08T07:59:31.996119Z",
     "start_time": "2022-01-08T07:59:31.992196Z"
    }
   },
   "outputs": [],
   "source": [
    "# transactions.info()"
   ]
  },
  {
   "cell_type": "code",
   "execution_count": null,
   "id": "2e02b8f0",
   "metadata": {
    "ExecuteTime": {
     "end_time": "2022-01-08T07:59:32.011210Z",
     "start_time": "2022-01-08T07:59:31.997647Z"
    },
    "scrolled": true
   },
   "outputs": [],
   "source": [
    "oil.info()"
   ]
  },
  {
   "cell_type": "code",
   "execution_count": null,
   "id": "6b7203ae",
   "metadata": {
    "ExecuteTime": {
     "end_time": "2022-01-08T07:59:32.026629Z",
     "start_time": "2022-01-08T07:59:32.012811Z"
    }
   },
   "outputs": [],
   "source": [
    "stores.info()"
   ]
  },
  {
   "cell_type": "code",
   "execution_count": null,
   "id": "c8e774d2",
   "metadata": {
    "ExecuteTime": {
     "end_time": "2022-01-08T07:59:32.045170Z",
     "start_time": "2022-01-08T07:59:32.028238Z"
    }
   },
   "outputs": [],
   "source": [
    "train.info()"
   ]
  },
  {
   "cell_type": "code",
   "execution_count": null,
   "id": "0b0571b3",
   "metadata": {
    "ExecuteTime": {
     "end_time": "2022-01-08T07:59:32.059818Z",
     "start_time": "2022-01-08T07:59:32.048167Z"
    },
    "scrolled": true
   },
   "outputs": [],
   "source": [
    "test.info()"
   ]
  },
  {
   "cell_type": "markdown",
   "id": "7ab85a61",
   "metadata": {},
   "source": [
    "## Tidy Data"
   ]
  },
  {
   "cell_type": "code",
   "execution_count": null,
   "id": "86516b44",
   "metadata": {
    "ExecuteTime": {
     "end_time": "2022-01-08T07:59:32.069166Z",
     "start_time": "2022-01-08T07:59:32.060819Z"
    },
    "scrolled": true
   },
   "outputs": [],
   "source": [
    "# impute missing values in oil dataframe\n",
    "oil['dcoilwtico']= oil['dcoilwtico'].interpolate(limit_direction='both')\n",
    "oil.info()"
   ]
  },
  {
   "cell_type": "markdown",
   "id": "3e349e9d",
   "metadata": {},
   "source": [
    "## Join Dataframes"
   ]
  },
  {
   "cell_type": "code",
   "execution_count": null,
   "id": "44ff9380",
   "metadata": {
    "ExecuteTime": {
     "end_time": "2022-01-08T07:59:33.115949Z",
     "start_time": "2022-01-08T07:59:32.070255Z"
    },
    "scrolled": true
   },
   "outputs": [],
   "source": [
    "# join data to make train dataset\n",
    "train = train.copy(deep=True)\n",
    "train = train.merge(oil, how='left', on='date', copy=False)\n",
    "train = train.merge(stores[['store_nbr', 'city']], how='left', on='store_nbr')\n",
    "train = train.merge(holiday_events[['date', 'type', 'locale_name']], how='left', left_on=['date', 'city'], right_on=['date', 'locale_name'], copy=False)\n",
    "train = train[~train.date.isin(['2013-01-01'])]\n",
    "train['is_holiday'] = train['type'].notnull()\n",
    "train"
   ]
  },
  {
   "cell_type": "code",
   "execution_count": null,
   "id": "9bbf17c6",
   "metadata": {
    "ExecuteTime": {
     "end_time": "2022-01-08T07:59:33.156943Z",
     "start_time": "2022-01-08T07:59:33.117391Z"
    }
   },
   "outputs": [],
   "source": [
    "# join data to make test dataset\n",
    "test = test.copy(deep=True)\n",
    "test = test.merge(oil, how='left', on='date', copy=False)\n",
    "test = test.merge(stores[['store_nbr', 'city']], how='left', on='store_nbr')\n",
    "test = test.merge(holiday_events[['date', 'type', 'locale_name']], how='left', left_on=['date', 'city'], right_on=['date', 'locale_name'], copy=False)\n",
    "test['is_holiday'] = test['type'].notnull()\n",
    "test"
   ]
  },
  {
   "cell_type": "code",
   "execution_count": null,
   "id": "571e3f47",
   "metadata": {
    "ExecuteTime": {
     "end_time": "2022-01-08T07:59:33.161603Z",
     "start_time": "2022-01-08T07:59:33.158197Z"
    }
   },
   "outputs": [],
   "source": [
    "# feature lists for lightGBM model\n",
    "target = 'sales'\n",
    "predictor = ['store_nbr', 'family', 'onpromotion', 'year', 'month', 'day', 'dayofweek', 'dcoilwtico', 'is_holiday', 'ARIMA'] \n",
    "bool_predictor = ['is_holiday']\n",
    "num_predictor = ['onpromotion', 'dcoilwtico', 'ARIMA'] \n",
    "cat_predictor = ['store_nbr', 'family', 'year', 'month', 'day', 'dayofweek']"
   ]
  },
  {
   "cell_type": "markdown",
   "id": "19fdbe38",
   "metadata": {},
   "source": [
    "## EDA"
   ]
  },
  {
   "cell_type": "code",
   "execution_count": null,
   "id": "035c2edc",
   "metadata": {
    "ExecuteTime": {
     "end_time": "2022-01-08T08:00:02.339551Z",
     "start_time": "2022-01-08T07:59:33.162799Z"
    }
   },
   "outputs": [],
   "source": [
    "# plot sales by family\n",
    "fig_line = px.line(train, x='date', y='sales', color='family')"
   ]
  },
  {
   "cell_type": "code",
   "execution_count": null,
   "id": "a66d57bd",
   "metadata": {
    "ExecuteTime": {
     "end_time": "2022-01-08T08:00:37.323625Z",
     "start_time": "2022-01-08T08:00:02.341642Z"
    },
    "scrolled": false
   },
   "outputs": [],
   "source": [
    "fig_line.show()"
   ]
  },
  {
   "cell_type": "code",
   "execution_count": null,
   "id": "bd5bf59f",
   "metadata": {
    "ExecuteTime": {
     "end_time": "2022-01-08T08:00:37.329743Z",
     "start_time": "2022-01-08T08:00:37.325108Z"
    }
   },
   "outputs": [],
   "source": [
    "def test_stationarity(timeseries: pd.Series):\n",
    "    '''\n",
    "    INPUT: pandas timeseries of target\n",
    "    \n",
    "    Plots raw data, rolling mean, and rolling standard deviation\n",
    "    \n",
    "    '''\n",
    "    rolmean = pd.Series(timeseries).rolling(window=12).mean() * 2\n",
    "    rolstd = pd.Series(timeseries).rolling(window=12).std()\n",
    "    \n",
    "    fig, ax = plt.subplots(figsize=(16,4))\n",
    "    ax.plot(timeseries, label='raw data')\n",
    "    ax.plot(rolmean, label='rolling mean (x2)')\n",
    "    ax.plot(rolstd, label='rolling std')\n",
    "    ax.legend()"
   ]
  },
  {
   "cell_type": "code",
   "execution_count": null,
   "id": "4faa37e6",
   "metadata": {
    "ExecuteTime": {
     "end_time": "2022-01-08T08:00:40.922598Z",
     "start_time": "2022-01-08T08:00:37.331051Z"
    },
    "scrolled": false
   },
   "outputs": [],
   "source": [
    "test_stationarity(train['sales'])"
   ]
  },
  {
   "cell_type": "code",
   "execution_count": null,
   "id": "91921f4d",
   "metadata": {
    "ExecuteTime": {
     "end_time": "2022-01-08T08:00:40.927335Z",
     "start_time": "2022-01-08T08:00:40.923557Z"
    }
   },
   "outputs": [],
   "source": [
    "def ADF_test(timeseries: pd.DataFrame, dataDesc: str):\n",
    "    '''\n",
    "    Input: timeseires - pandas series of target\n",
    "           dataDesc - string description of target\n",
    "    \n",
    "    Returns: Confidence that data is stationary at confidence level\n",
    "    '''\n",
    "    timeseries = timeseries.sample(frac=0.25)\n",
    "    print(' > Is the {} stationary ?'.format(dataDesc))\n",
    "    dftest = adfuller(timeseries.dropna(), autolag='AIC')\n",
    "    print('Test statistic = {:.3f}'.format(dftest[0]))\n",
    "    print('P-value = {:.3f}'.format(dftest[1]))\n",
    "    print('Critical values :')\n",
    "    for k, v in dftest[4].items():\n",
    "        print('\\t{}: {} - The data is {} stationary with {}% confidence'.format(k, v, 'not' if v<dftest[0] else '', 100-int(k[:-1])))"
   ]
  },
  {
   "cell_type": "code",
   "execution_count": null,
   "id": "77b0fa2d",
   "metadata": {
    "ExecuteTime": {
     "end_time": "2022-01-08T08:10:01.711451Z",
     "start_time": "2022-01-08T08:00:40.928800Z"
    },
    "scrolled": true
   },
   "outputs": [],
   "source": [
    "ADF_test(train['sales'], 'raw data')"
   ]
  },
  {
   "cell_type": "markdown",
   "id": "f0f96c11",
   "metadata": {},
   "source": [
    "## Model"
   ]
  },
  {
   "cell_type": "markdown",
   "id": "744b42b0",
   "metadata": {},
   "source": [
    "### ARIMA"
   ]
  },
  {
   "cell_type": "markdown",
   "id": "c8386509",
   "metadata": {},
   "source": [
    "Create an ARIMA prediction to use as a feature in the lightGBM model."
   ]
  },
  {
   "cell_type": "code",
   "execution_count": null,
   "id": "815fc81f",
   "metadata": {
    "ExecuteTime": {
     "end_time": "2022-01-08T08:10:02.398316Z",
     "start_time": "2022-01-08T08:10:01.747721Z"
    }
   },
   "outputs": [],
   "source": [
    "arima_data = train.groupby(['date'])['sales'].sum().asfreq('d')\n",
    "arima_train, arima_test = train_test_split(arima_data, test_size=0.33, random_state=42, shuffle=False)"
   ]
  },
  {
   "cell_type": "markdown",
   "id": "3b0bd2c6",
   "metadata": {},
   "source": [
    "Plot seasonal decomposition for using additive and multiplicative assumptions. The additive model shows the best decomposition so will assume this behaviour for ARIMA model."
   ]
  },
  {
   "cell_type": "code",
   "execution_count": null,
   "id": "6c6af7dd",
   "metadata": {
    "ExecuteTime": {
     "end_time": "2022-01-08T08:10:03.454113Z",
     "start_time": "2022-01-08T08:10:02.402895Z"
    },
    "scrolled": true
   },
   "outputs": [],
   "source": [
    "print(f'Additive model decomposition')\n",
    "decomp_add = seasonal_decompose(arima_train.asfreq('MS'), model='additive')\n",
    "decomp_add.plot()"
   ]
  },
  {
   "cell_type": "code",
   "execution_count": null,
   "id": "90cfda94",
   "metadata": {
    "ExecuteTime": {
     "end_time": "2022-01-08T08:10:04.193709Z",
     "start_time": "2022-01-08T08:10:03.456620Z"
    },
    "scrolled": true
   },
   "outputs": [],
   "source": [
    "print(f'Multiplicative model decomposition')\n",
    "decomp_mul = seasonal_decompose(arima_train.asfreq('MS'), model='multiplicative')\n",
    "decomp_mul.plot()"
   ]
  },
  {
   "cell_type": "code",
   "execution_count": null,
   "id": "8e47d5fc",
   "metadata": {
    "ExecuteTime": {
     "end_time": "2022-01-08T08:11:27.105781Z",
     "start_time": "2022-01-08T08:11:27.097409Z"
    }
   },
   "outputs": [],
   "source": [
    "# Create possible combination of order parameteres\n",
    "p = d = q = range(0,4)\n",
    "pdq = list(itertools.product(p, d, q))\n",
    "print('Examples of parameter combinations for Seasonal ARIMA: ')\n",
    "print('SARIMAX: {}'.format(pdq[1]))\n",
    "print('SARIMAX: {}'.format(pdq[1]))\n",
    "print('SARIMAX: {}'.format(pdq[2]))\n",
    "print('SARIMAX: {}'.format(pdq[2]))"
   ]
  },
  {
   "cell_type": "code",
   "execution_count": null,
   "id": "7e832678",
   "metadata": {
    "ExecuteTime": {
     "end_time": "2022-01-08T08:22:22.979315Z",
     "start_time": "2022-01-08T08:22:03.996849Z"
    },
    "scrolled": true
   },
   "outputs": [],
   "source": [
    "# For each possible order param, calculate AIC score\n",
    "for param in pdq:\n",
    "    mod = sm.tsa.statespace.SARIMAX(arima_train,\n",
    "                                    order=param,\n",
    "                                    enforce_stationarity=False,\n",
    "                                    enforce_invertibility=False\n",
    "                                   )\n",
    "    results = mod.fit()\n",
    "    print('ARIMA{} - AIC:{}'.format(param, results.aic))"
   ]
  },
  {
   "cell_type": "markdown",
   "id": "00882353",
   "metadata": {},
   "source": [
    "The order parameters with the best AIC score were (3, 1, 3)"
   ]
  },
  {
   "cell_type": "code",
   "execution_count": null,
   "id": "3544574b",
   "metadata": {
    "ExecuteTime": {
     "end_time": "2022-01-08T08:22:23.430378Z",
     "start_time": "2022-01-08T08:22:22.981122Z"
    }
   },
   "outputs": [],
   "source": [
    "model_sarima = sm.tsa.statespace.SARIMAX(arima_train,\n",
    "                                order=(3, 1, 3),\n",
    "                                enforce_stationarity=False,\n",
    "                                enforce_invertibility=False\n",
    "                                        )\n",
    "results_sarima = model_sarima.fit()\n",
    "print(results_sarima.summary().tables[1])"
   ]
  },
  {
   "cell_type": "code",
   "execution_count": null,
   "id": "4126d36a",
   "metadata": {
    "ExecuteTime": {
     "end_time": "2022-01-08T08:22:24.009833Z",
     "start_time": "2022-01-08T08:22:23.431781Z"
    },
    "scrolled": true
   },
   "outputs": [],
   "source": [
    "results_sarima.plot_diagnostics(figsize=(10, 10))\n",
    "plt.show()"
   ]
  },
  {
   "cell_type": "code",
   "execution_count": null,
   "id": "d185da2f",
   "metadata": {
    "ExecuteTime": {
     "end_time": "2022-01-08T08:22:24.034302Z",
     "start_time": "2022-01-08T08:22:24.012107Z"
    }
   },
   "outputs": [],
   "source": [
    "# create predictions covering timespan of data to use as feature\n",
    "arima_pred = results_sarima.predict(0,1703)"
   ]
  },
  {
   "cell_type": "markdown",
   "id": "ef8cf7dd",
   "metadata": {},
   "source": [
    "### LightGBM"
   ]
  },
  {
   "cell_type": "code",
   "execution_count": null,
   "id": "f04762d5",
   "metadata": {
    "ExecuteTime": {
     "end_time": "2022-01-08T08:22:24.836915Z",
     "start_time": "2022-01-08T08:22:24.036121Z"
    },
    "scrolled": true
   },
   "outputs": [],
   "source": [
    "# merge ARIMA feature to data\n",
    "arima_pred = pd.DataFrame(arima_pred).reset_index()\n",
    "arima_pred.columns = ['date', 'ARIMA']\n",
    "train = train.merge(pd.DataFrame(arima_pred), how='left', on='date', copy=False)\n",
    "test = test.merge(pd.DataFrame(arima_pred), how='left', on='date', copy=False)"
   ]
  },
  {
   "cell_type": "code",
   "execution_count": null,
   "id": "f8d432fb",
   "metadata": {
    "ExecuteTime": {
     "end_time": "2022-01-08T08:22:25.080299Z",
     "start_time": "2022-01-08T08:22:24.838214Z"
    }
   },
   "outputs": [],
   "source": [
    "lgb_train, lgb_test = train_test_split(train, test_size=0.33, random_state=42, shuffle=False)"
   ]
  },
  {
   "cell_type": "code",
   "execution_count": null,
   "id": "a5894dff",
   "metadata": {
    "ExecuteTime": {
     "end_time": "2022-01-08T08:22:25.086875Z",
     "start_time": "2022-01-08T08:22:25.081346Z"
    }
   },
   "outputs": [],
   "source": [
    "def prep_light_gbm(df: pd.DataFrame, features: list, categorical_features: list, num_features: list, boolean_features: list):\n",
    "    '''\n",
    "    Takes a pandas dataframe and ensures that data types are correct for lightGBM model. Will return string\n",
    "    if unexpected datatype.\n",
    "    '''\n",
    "    for col in features:\n",
    "        if col in categorical_features:\n",
    "            df[col] = df[col].astype(str).astype(\"category\")\n",
    "        elif col in boolean_features:\n",
    "            df[col] = df[col].astype(\"category\")\n",
    "        elif col in num_features:\n",
    "            df[col] = df[col].astype('float64')\n",
    "        else:\n",
    "            print(f\"Other type detected for: {col}\")\n",
    "    return df"
   ]
  },
  {
   "cell_type": "code",
   "execution_count": null,
   "id": "13ac5b01",
   "metadata": {
    "ExecuteTime": {
     "end_time": "2022-01-08T08:22:28.857385Z",
     "start_time": "2022-01-08T08:22:25.088046Z"
    }
   },
   "outputs": [],
   "source": [
    "lgb_train = prep_light_gbm(lgb_train, predictor, cat_predictor, num_predictor, bool_predictor)\n",
    "lgb_test = prep_light_gbm(lgb_test, predictor, cat_predictor, num_predictor, bool_predictor)\n",
    "test = prep_light_gbm(test, predictor, cat_predictor, num_predictor, bool_predictor)\n",
    "\n",
    "param = {\n",
    "    'objective': 'regression',\n",
    "    'boosting_type': 'goss',\n",
    "    'metric': 'rmse'\n",
    "}"
   ]
  },
  {
   "cell_type": "code",
   "execution_count": null,
   "id": "21b5d857",
   "metadata": {
    "ExecuteTime": {
     "end_time": "2022-01-08T08:22:28.862162Z",
     "start_time": "2022-01-08T08:22:28.858505Z"
    }
   },
   "outputs": [],
   "source": [
    "def light_gbm(train: pd.DataFrame, params: dict): # test: pd.DataFrame\n",
    "    \n",
    "    train, valid = train_test_split(train, test_size=0.15, random_state=42, shuffle=False)\n",
    "    \n",
    "    train_data = lgb.Dataset(\n",
    "        train[predictor],\n",
    "        label=train[target],\n",
    "        feature_name = predictor,\n",
    "        categorical_feature = cat_predictor,\n",
    "        free_raw_data=True\n",
    "    )\n",
    "    \n",
    "    valid_data = lgb.Dataset(\n",
    "        valid[predictor],\n",
    "        label=valid[target],\n",
    "        feature_name = predictor,\n",
    "        categorical_feature = cat_predictor,\n",
    "        free_raw_data=True\n",
    "    )\n",
    "    \n",
    "    lgb_model = lgb.train(\n",
    "        param,\n",
    "        train_data,\n",
    "        valid_sets=[valid_data],\n",
    "        early_stopping_rounds=100\n",
    "    )\n",
    "    \n",
    "    return lgb_model\n"
   ]
  },
  {
   "cell_type": "code",
   "execution_count": null,
   "id": "b9e6ddad",
   "metadata": {
    "ExecuteTime": {
     "end_time": "2022-01-08T08:22:58.352516Z",
     "start_time": "2022-01-08T08:22:28.864578Z"
    },
    "scrolled": true
   },
   "outputs": [],
   "source": [
    "lgb_model = light_gbm(lgb_train, param)"
   ]
  },
  {
   "cell_type": "code",
   "execution_count": null,
   "id": "11fd3f3a",
   "metadata": {
    "ExecuteTime": {
     "end_time": "2022-01-08T08:22:59.054227Z",
     "start_time": "2022-01-08T08:22:58.353928Z"
    }
   },
   "outputs": [],
   "source": [
    "lgb_pred = lgb_model.predict(lgb_test[predictor])"
   ]
  },
  {
   "cell_type": "code",
   "execution_count": null,
   "id": "9e3f18ef",
   "metadata": {
    "ExecuteTime": {
     "end_time": "2022-01-08T08:22:59.076283Z",
     "start_time": "2022-01-08T08:22:59.055655Z"
    }
   },
   "outputs": [],
   "source": [
    "print('The rmse of prediction is:', round(mean_squared_error(lgb_test[target], lgb_pred) ** 0.5, 5))"
   ]
  },
  {
   "cell_type": "code",
   "execution_count": null,
   "id": "b63646ae",
   "metadata": {
    "ExecuteTime": {
     "end_time": "2022-01-08T08:22:59.094072Z",
     "start_time": "2022-01-08T08:22:59.077589Z"
    },
    "scrolled": true
   },
   "outputs": [],
   "source": [
    "print('The R2 of prediction is:', round(r2_score(lgb_test[target], lgb_pred), 5))"
   ]
  },
  {
   "cell_type": "code",
   "execution_count": null,
   "id": "296624bf",
   "metadata": {
    "ExecuteTime": {
     "end_time": "2022-01-08T08:22:59.258472Z",
     "start_time": "2022-01-08T08:22:59.095272Z"
    },
    "scrolled": true
   },
   "outputs": [],
   "source": [
    "lgb.plot_importance(lgb_model)"
   ]
  },
  {
   "cell_type": "markdown",
   "id": "e3379f67",
   "metadata": {},
   "source": [
    "## Kaggle Submission"
   ]
  },
  {
   "cell_type": "code",
   "execution_count": null,
   "id": "c4820b2d",
   "metadata": {
    "ExecuteTime": {
     "end_time": "2022-01-08T08:22:59.292231Z",
     "start_time": "2022-01-08T08:22:59.259712Z"
    }
   },
   "outputs": [],
   "source": [
    "kaggle_prediction = lgb_model.predict(test[predictor])"
   ]
  },
  {
   "cell_type": "code",
   "execution_count": null,
   "id": "5fa87128",
   "metadata": {
    "ExecuteTime": {
     "end_time": "2022-01-08T08:22:59.297657Z",
     "start_time": "2022-01-08T08:22:59.293477Z"
    }
   },
   "outputs": [],
   "source": [
    "kaggle_submission = pd.DataFrame(kaggle_prediction)\n",
    "kaggle_submission.rename(columns={0:'sales'},inplace=True)\n",
    "kaggle_submission.index=test['id']"
   ]
  },
  {
   "cell_type": "code",
   "execution_count": null,
   "id": "05c9ec9f",
   "metadata": {
    "ExecuteTime": {
     "end_time": "2022-01-08T08:22:59.307580Z",
     "start_time": "2022-01-08T08:22:59.299175Z"
    }
   },
   "outputs": [],
   "source": [
    "# kaggle_submission.to_csv('submission.csv')"
   ]
  },
  {
   "cell_type": "code",
   "execution_count": null,
   "id": "3c2a392a",
   "metadata": {
    "ExecuteTime": {
     "end_time": "2022-01-08T08:22:59.327419Z",
     "start_time": "2022-01-08T08:22:59.308736Z"
    }
   },
   "outputs": [],
   "source": [
    "kaggle_submission"
   ]
  }
 ],
 "metadata": {
  "kernelspec": {
   "display_name": "Python 3 (ipykernel)",
   "language": "python",
   "name": "python3"
  },
  "language_info": {
   "codemirror_mode": {
    "name": "ipython",
    "version": 3
   },
   "file_extension": ".py",
   "mimetype": "text/x-python",
   "name": "python",
   "nbconvert_exporter": "python",
   "pygments_lexer": "ipython3",
   "version": "3.9.5"
  },
  "latex_envs": {
   "LaTeX_envs_menu_present": true,
   "autoclose": false,
   "autocomplete": true,
   "bibliofile": "biblio.bib",
   "cite_by": "apalike",
   "current_citInitial": 1,
   "eqLabelWithNumbers": true,
   "eqNumInitial": 1,
   "hotkeys": {
    "equation": "Ctrl-E",
    "itemize": "Ctrl-I"
   },
   "labels_anchors": false,
   "latex_user_defs": false,
   "report_style_numbering": false,
   "user_envs_cfg": false
  },
  "toc": {
   "base_numbering": 1,
   "nav_menu": {},
   "number_sections": true,
   "sideBar": true,
   "skip_h1_title": false,
   "title_cell": "Table of Contents",
   "title_sidebar": "Contents",
   "toc_cell": false,
   "toc_position": {
    "height": "calc(100% - 180px)",
    "left": "10px",
    "top": "150px",
    "width": "195.6px"
   },
   "toc_section_display": true,
   "toc_window_display": true
  }
 },
 "nbformat": 4,
 "nbformat_minor": 5
}
